{
 "cells": [
  {
   "cell_type": "code",
   "execution_count": null,
   "id": "c3075841",
   "metadata": {},
   "outputs": [],
   "source": []
  },
  {
   "cell_type": "code",
   "execution_count": 1,
   "id": "117b901a",
   "metadata": {},
   "outputs": [
    {
     "name": "stdout",
     "output_type": "stream",
     "text": [
      "Requirement already satisfied: openai-agents in c:\\users\\alicom\\appdata\\local\\programs\\python\\python313\\lib\\site-packages (0.2.2)\n",
      "Requirement already satisfied: griffe<2,>=1.5.6 in c:\\users\\alicom\\appdata\\local\\programs\\python\\python313\\lib\\site-packages (from openai-agents) (1.7.3)\n",
      "Requirement already satisfied: mcp<2,>=1.11.0 in c:\\users\\alicom\\appdata\\local\\programs\\python\\python313\\lib\\site-packages (from openai-agents) (1.12.0)\n",
      "Requirement already satisfied: openai<2,>=1.96.1 in c:\\users\\alicom\\appdata\\local\\programs\\python\\python313\\lib\\site-packages (from openai-agents) (1.97.0)\n",
      "Requirement already satisfied: pydantic<3,>=2.10 in c:\\users\\alicom\\appdata\\local\\programs\\python\\python313\\lib\\site-packages (from openai-agents) (2.10.6)\n",
      "Requirement already satisfied: requests<3,>=2.0 in c:\\users\\alicom\\appdata\\local\\programs\\python\\python313\\lib\\site-packages (from openai-agents) (2.32.3)\n",
      "Requirement already satisfied: types-requests<3,>=2.0 in c:\\users\\alicom\\appdata\\local\\programs\\python\\python313\\lib\\site-packages (from openai-agents) (2.32.4.20250611)\n",
      "Requirement already satisfied: typing-extensions<5,>=4.12.2 in c:\\users\\alicom\\appdata\\local\\programs\\python\\python313\\lib\\site-packages (from openai-agents) (4.12.2)\n",
      "Requirement already satisfied: colorama>=0.4 in c:\\users\\alicom\\appdata\\local\\programs\\python\\python313\\lib\\site-packages (from griffe<2,>=1.5.6->openai-agents) (0.4.6)\n",
      "Requirement already satisfied: anyio>=4.5 in c:\\users\\alicom\\appdata\\local\\programs\\python\\python313\\lib\\site-packages (from mcp<2,>=1.11.0->openai-agents) (4.8.0)\n",
      "Requirement already satisfied: httpx-sse>=0.4 in c:\\users\\alicom\\appdata\\local\\programs\\python\\python313\\lib\\site-packages (from mcp<2,>=1.11.0->openai-agents) (0.4.1)\n",
      "Requirement already satisfied: httpx>=0.27 in c:\\users\\alicom\\appdata\\local\\programs\\python\\python313\\lib\\site-packages (from mcp<2,>=1.11.0->openai-agents) (0.28.1)\n",
      "Requirement already satisfied: jsonschema>=4.20.0 in c:\\users\\alicom\\appdata\\local\\programs\\python\\python313\\lib\\site-packages (from mcp<2,>=1.11.0->openai-agents) (4.23.0)\n",
      "Requirement already satisfied: pydantic-settings>=2.5.2 in c:\\users\\alicom\\appdata\\local\\programs\\python\\python313\\lib\\site-packages (from mcp<2,>=1.11.0->openai-agents) (2.10.1)\n",
      "Requirement already satisfied: python-multipart>=0.0.9 in c:\\users\\alicom\\appdata\\local\\programs\\python\\python313\\lib\\site-packages (from mcp<2,>=1.11.0->openai-agents) (0.0.20)\n",
      "Requirement already satisfied: pywin32>=310 in c:\\users\\alicom\\appdata\\local\\programs\\python\\python313\\lib\\site-packages (from mcp<2,>=1.11.0->openai-agents) (311)\n",
      "Requirement already satisfied: sse-starlette>=1.6.1 in c:\\users\\alicom\\appdata\\local\\programs\\python\\python313\\lib\\site-packages (from mcp<2,>=1.11.0->openai-agents) (2.4.1)\n",
      "Requirement already satisfied: starlette>=0.27 in c:\\users\\alicom\\appdata\\local\\programs\\python\\python313\\lib\\site-packages (from mcp<2,>=1.11.0->openai-agents) (0.47.2)\n",
      "Requirement already satisfied: uvicorn>=0.23.1 in c:\\users\\alicom\\appdata\\local\\programs\\python\\python313\\lib\\site-packages (from mcp<2,>=1.11.0->openai-agents) (0.35.0)\n",
      "Requirement already satisfied: distro<2,>=1.7.0 in c:\\users\\alicom\\appdata\\local\\programs\\python\\python313\\lib\\site-packages (from openai<2,>=1.96.1->openai-agents) (1.9.0)\n",
      "Requirement already satisfied: jiter<1,>=0.4.0 in c:\\users\\alicom\\appdata\\local\\programs\\python\\python313\\lib\\site-packages (from openai<2,>=1.96.1->openai-agents) (0.9.0)\n",
      "Requirement already satisfied: sniffio in c:\\users\\alicom\\appdata\\local\\programs\\python\\python313\\lib\\site-packages (from openai<2,>=1.96.1->openai-agents) (1.3.1)\n",
      "Requirement already satisfied: tqdm>4 in c:\\users\\alicom\\appdata\\local\\programs\\python\\python313\\lib\\site-packages (from openai<2,>=1.96.1->openai-agents) (4.67.1)\n",
      "Requirement already satisfied: annotated-types>=0.6.0 in c:\\users\\alicom\\appdata\\local\\programs\\python\\python313\\lib\\site-packages (from pydantic<3,>=2.10->openai-agents) (0.7.0)\n",
      "Requirement already satisfied: pydantic-core==2.27.2 in c:\\users\\alicom\\appdata\\local\\programs\\python\\python313\\lib\\site-packages (from pydantic<3,>=2.10->openai-agents) (2.27.2)\n",
      "Requirement already satisfied: charset-normalizer<4,>=2 in c:\\users\\alicom\\appdata\\local\\programs\\python\\python313\\lib\\site-packages (from requests<3,>=2.0->openai-agents) (3.4.1)\n",
      "Requirement already satisfied: idna<4,>=2.5 in c:\\users\\alicom\\appdata\\local\\programs\\python\\python313\\lib\\site-packages (from requests<3,>=2.0->openai-agents) (3.10)\n",
      "Requirement already satisfied: urllib3<3,>=1.21.1 in c:\\users\\alicom\\appdata\\local\\programs\\python\\python313\\lib\\site-packages (from requests<3,>=2.0->openai-agents) (2.3.0)\n",
      "Requirement already satisfied: certifi>=2017.4.17 in c:\\users\\alicom\\appdata\\local\\programs\\python\\python313\\lib\\site-packages (from requests<3,>=2.0->openai-agents) (2025.1.31)\n",
      "Requirement already satisfied: httpcore==1.* in c:\\users\\alicom\\appdata\\local\\programs\\python\\python313\\lib\\site-packages (from httpx>=0.27->mcp<2,>=1.11.0->openai-agents) (1.0.7)\n",
      "Requirement already satisfied: h11<0.15,>=0.13 in c:\\users\\alicom\\appdata\\local\\programs\\python\\python313\\lib\\site-packages (from httpcore==1.*->httpx>=0.27->mcp<2,>=1.11.0->openai-agents) (0.14.0)\n",
      "Requirement already satisfied: attrs>=22.2.0 in c:\\users\\alicom\\appdata\\local\\programs\\python\\python313\\lib\\site-packages (from jsonschema>=4.20.0->mcp<2,>=1.11.0->openai-agents) (25.1.0)\n",
      "Requirement already satisfied: jsonschema-specifications>=2023.03.6 in c:\\users\\alicom\\appdata\\local\\programs\\python\\python313\\lib\\site-packages (from jsonschema>=4.20.0->mcp<2,>=1.11.0->openai-agents) (2024.10.1)\n",
      "Requirement already satisfied: referencing>=0.28.4 in c:\\users\\alicom\\appdata\\local\\programs\\python\\python313\\lib\\site-packages (from jsonschema>=4.20.0->mcp<2,>=1.11.0->openai-agents) (0.36.2)\n",
      "Requirement already satisfied: rpds-py>=0.7.1 in c:\\users\\alicom\\appdata\\local\\programs\\python\\python313\\lib\\site-packages (from jsonschema>=4.20.0->mcp<2,>=1.11.0->openai-agents) (0.23.1)\n",
      "Requirement already satisfied: python-dotenv>=0.21.0 in c:\\users\\alicom\\appdata\\local\\programs\\python\\python313\\lib\\site-packages (from pydantic-settings>=2.5.2->mcp<2,>=1.11.0->openai-agents) (1.1.1)\n",
      "Requirement already satisfied: typing-inspection>=0.4.0 in c:\\users\\alicom\\appdata\\local\\programs\\python\\python313\\lib\\site-packages (from pydantic-settings>=2.5.2->mcp<2,>=1.11.0->openai-agents) (0.4.1)\n",
      "Requirement already satisfied: click>=7.0 in c:\\users\\alicom\\appdata\\local\\programs\\python\\python313\\lib\\site-packages (from uvicorn>=0.23.1->mcp<2,>=1.11.0->openai-agents) (8.1.8)\n",
      "Note: you may need to restart the kernel to use updated packages.\n"
     ]
    },
    {
     "name": "stderr",
     "output_type": "stream",
     "text": [
      "WARNING: Ignoring invalid distribution ~treamlit (c:\\Users\\ALICOM\\AppData\\Local\\Programs\\Python\\Python313\\Lib\\site-packages)\n",
      "WARNING: Ignoring invalid distribution ~treamlit (c:\\Users\\ALICOM\\AppData\\Local\\Programs\\Python\\Python313\\Lib\\site-packages)\n",
      "WARNING: Ignoring invalid distribution ~treamlit (c:\\Users\\ALICOM\\AppData\\Local\\Programs\\Python\\Python313\\Lib\\site-packages)\n",
      "WARNING: Ignoring invalid distribution ~treamlit (c:\\Users\\ALICOM\\AppData\\Local\\Programs\\Python\\Python313\\Lib\\site-packages)\n",
      "\n",
      "[notice] A new release of pip is available: 24.3.1 -> 25.2\n",
      "[notice] To update, run: python.exe -m pip install --upgrade pip\n"
     ]
    }
   ],
   "source": [
    "%pip install openai-agents"
   ]
  },
  {
   "cell_type": "code",
   "execution_count": 2,
   "id": "a9113c4a",
   "metadata": {},
   "outputs": [
    {
     "name": "stdout",
     "output_type": "stream",
     "text": [
      "Requirement already satisfied: python-dotenv in c:\\users\\alicom\\appdata\\local\\programs\\python\\python313\\lib\\site-packages (1.1.1)\n",
      "Note: you may need to restart the kernel to use updated packages.\n"
     ]
    },
    {
     "name": "stderr",
     "output_type": "stream",
     "text": [
      "WARNING: Ignoring invalid distribution ~treamlit (c:\\Users\\ALICOM\\AppData\\Local\\Programs\\Python\\Python313\\Lib\\site-packages)\n",
      "WARNING: Ignoring invalid distribution ~treamlit (c:\\Users\\ALICOM\\AppData\\Local\\Programs\\Python\\Python313\\Lib\\site-packages)\n",
      "WARNING: Ignoring invalid distribution ~treamlit (c:\\Users\\ALICOM\\AppData\\Local\\Programs\\Python\\Python313\\Lib\\site-packages)\n",
      "WARNING: Ignoring invalid distribution ~treamlit (c:\\Users\\ALICOM\\AppData\\Local\\Programs\\Python\\Python313\\Lib\\site-packages)\n",
      "\n",
      "[notice] A new release of pip is available: 24.3.1 -> 25.2\n",
      "[notice] To update, run: python.exe -m pip install --upgrade pip\n"
     ]
    }
   ],
   "source": [
    "%pip install python-dotenv\n"
   ]
  },
  {
   "cell_type": "code",
   "execution_count": 7,
   "id": "1b0a4b86",
   "metadata": {},
   "outputs": [],
   "source": [
    "from agents import Agent,Runner,OpenAIChatCompletionsModel,AsyncOpenAI,RunConfig\n",
    "from dotenv import load_dotenv\n",
    "import os\n",
    "load_dotenv()\n",
    "\n",
    "\n",
    "api_key=os.getenv(\"GEMIN_API_KEY\")\n",
    "\n",
    "\n",
    "external_client = AsyncOpenAI(\n",
    "    api_key=api_key,\n",
    "    base_url=\"https://generativelanguage.googleapis.com/v1beta/openai/\",\n",
    ")\n",
    "\n",
    "model = OpenAIChatCompletionsModel(\n",
    "    model=\"gemini-2.0-flash\",\n",
    "    openai_client=external_client\n",
    ")\n",
    "\n",
    "config = RunConfig(\n",
    "    model=model,\n",
    "    model_provider=external_client,\n",
    "    tracing_disabled=True\n",
    ")"
   ]
  },
  {
   "cell_type": "code",
   "execution_count": 13,
   "id": "2ced662d",
   "metadata": {},
   "outputs": [
    {
     "ename": "RuntimeError",
     "evalue": "This event loop is already running",
     "output_type": "error",
     "traceback": [
      "\u001b[31m---------------------------------------------------------------------------\u001b[39m",
      "\u001b[31mRuntimeError\u001b[39m                              Traceback (most recent call last)",
      "\u001b[36mCell\u001b[39m\u001b[36m \u001b[39m\u001b[32mIn[13]\u001b[39m\u001b[32m, line 6\u001b[39m\n\u001b[32m      1\u001b[39m agent=Agent(\n\u001b[32m      2\u001b[39m     name=\u001b[33m\"\u001b[39m\u001b[33mMathTutor\u001b[39m\u001b[33m\"\u001b[39m,\n\u001b[32m      3\u001b[39m     instructions=\u001b[33m\"\u001b[39m\u001b[33mYou are a helpful math tutor. Help the student understand the concepts and solve problems step by step.\u001b[39m\u001b[33m\"\u001b[39m\n\u001b[32m      4\u001b[39m )\n\u001b[32m----> \u001b[39m\u001b[32m6\u001b[39m result=\u001b[43mRunner\u001b[49m\u001b[43m.\u001b[49m\u001b[43mrun_sync\u001b[49m\u001b[43m(\u001b[49m\u001b[43magent\u001b[49m\u001b[43m,\u001b[49m\u001b[38;5;28;43minput\u001b[39;49m\u001b[43m=\u001b[49m\u001b[33;43m\"\u001b[39;49m\u001b[33;43mwhat is 13 times 24?\u001b[39;49m\u001b[33;43m\"\u001b[39;49m\u001b[43m,\u001b[49m\u001b[43mrun_config\u001b[49m\u001b[43m=\u001b[49m\u001b[43mconfig\u001b[49m\u001b[43m)\u001b[49m\n\u001b[32m      7\u001b[39m \u001b[38;5;28mprint\u001b[39m(result)\n",
      "\u001b[36mFile \u001b[39m\u001b[32mc:\\Users\\ALICOM\\AppData\\Local\\Programs\\Python\\Python313\\Lib\\site-packages\\agents\\run.py:260\u001b[39m, in \u001b[36mRunner.run_sync\u001b[39m\u001b[34m(cls, starting_agent, input, context, max_turns, hooks, run_config, previous_response_id, session)\u001b[39m\n\u001b[32m    230\u001b[39m \u001b[38;5;250m\u001b[39m\u001b[33;03m\"\"\"Run a workflow synchronously, starting at the given agent. Note that this just wraps the\u001b[39;00m\n\u001b[32m    231\u001b[39m \u001b[33;03m`run` method, so it will not work if there's already an event loop (e.g. inside an async\u001b[39;00m\n\u001b[32m    232\u001b[39m \u001b[33;03mfunction, or in a Jupyter notebook or async context like FastAPI). For those cases, use\u001b[39;00m\n\u001b[32m   (...)\u001b[39m\u001b[32m    257\u001b[39m \u001b[33;03m    agent. Agents may perform handoffs, so we don't know the specific type of the output.\u001b[39;00m\n\u001b[32m    258\u001b[39m \u001b[33;03m\"\"\"\u001b[39;00m\n\u001b[32m    259\u001b[39m runner = DEFAULT_AGENT_RUNNER\n\u001b[32m--> \u001b[39m\u001b[32m260\u001b[39m \u001b[38;5;28;01mreturn\u001b[39;00m \u001b[43mrunner\u001b[49m\u001b[43m.\u001b[49m\u001b[43mrun_sync\u001b[49m\u001b[43m(\u001b[49m\n\u001b[32m    261\u001b[39m \u001b[43m    \u001b[49m\u001b[43mstarting_agent\u001b[49m\u001b[43m,\u001b[49m\n\u001b[32m    262\u001b[39m \u001b[43m    \u001b[49m\u001b[38;5;28;43minput\u001b[39;49m\u001b[43m,\u001b[49m\n\u001b[32m    263\u001b[39m \u001b[43m    \u001b[49m\u001b[43mcontext\u001b[49m\u001b[43m=\u001b[49m\u001b[43mcontext\u001b[49m\u001b[43m,\u001b[49m\n\u001b[32m    264\u001b[39m \u001b[43m    \u001b[49m\u001b[43mmax_turns\u001b[49m\u001b[43m=\u001b[49m\u001b[43mmax_turns\u001b[49m\u001b[43m,\u001b[49m\n\u001b[32m    265\u001b[39m \u001b[43m    \u001b[49m\u001b[43mhooks\u001b[49m\u001b[43m=\u001b[49m\u001b[43mhooks\u001b[49m\u001b[43m,\u001b[49m\n\u001b[32m    266\u001b[39m \u001b[43m    \u001b[49m\u001b[43mrun_config\u001b[49m\u001b[43m=\u001b[49m\u001b[43mrun_config\u001b[49m\u001b[43m,\u001b[49m\n\u001b[32m    267\u001b[39m \u001b[43m    \u001b[49m\u001b[43mprevious_response_id\u001b[49m\u001b[43m=\u001b[49m\u001b[43mprevious_response_id\u001b[49m\u001b[43m,\u001b[49m\n\u001b[32m    268\u001b[39m \u001b[43m    \u001b[49m\u001b[43msession\u001b[49m\u001b[43m=\u001b[49m\u001b[43msession\u001b[49m\u001b[43m,\u001b[49m\n\u001b[32m    269\u001b[39m \u001b[43m\u001b[49m\u001b[43m)\u001b[49m\n",
      "\u001b[36mFile \u001b[39m\u001b[32mc:\\Users\\ALICOM\\AppData\\Local\\Programs\\Python\\Python313\\Lib\\site-packages\\agents\\run.py:513\u001b[39m, in \u001b[36mAgentRunner.run_sync\u001b[39m\u001b[34m(self, starting_agent, input, **kwargs)\u001b[39m\n\u001b[32m    510\u001b[39m previous_response_id = kwargs.get(\u001b[33m\"\u001b[39m\u001b[33mprevious_response_id\u001b[39m\u001b[33m\"\u001b[39m)\n\u001b[32m    511\u001b[39m session = kwargs.get(\u001b[33m\"\u001b[39m\u001b[33msession\u001b[39m\u001b[33m\"\u001b[39m)\n\u001b[32m--> \u001b[39m\u001b[32m513\u001b[39m \u001b[38;5;28;01mreturn\u001b[39;00m \u001b[43masyncio\u001b[49m\u001b[43m.\u001b[49m\u001b[43mget_event_loop\u001b[49m\u001b[43m(\u001b[49m\u001b[43m)\u001b[49m\u001b[43m.\u001b[49m\u001b[43mrun_until_complete\u001b[49m\u001b[43m(\u001b[49m\n\u001b[32m    514\u001b[39m \u001b[43m    \u001b[49m\u001b[38;5;28;43mself\u001b[39;49m\u001b[43m.\u001b[49m\u001b[43mrun\u001b[49m\u001b[43m(\u001b[49m\n\u001b[32m    515\u001b[39m \u001b[43m        \u001b[49m\u001b[43mstarting_agent\u001b[49m\u001b[43m,\u001b[49m\n\u001b[32m    516\u001b[39m \u001b[43m        \u001b[49m\u001b[38;5;28;43minput\u001b[39;49m\u001b[43m,\u001b[49m\n\u001b[32m    517\u001b[39m \u001b[43m        \u001b[49m\u001b[43msession\u001b[49m\u001b[43m=\u001b[49m\u001b[43msession\u001b[49m\u001b[43m,\u001b[49m\n\u001b[32m    518\u001b[39m \u001b[43m        \u001b[49m\u001b[43mcontext\u001b[49m\u001b[43m=\u001b[49m\u001b[43mcontext\u001b[49m\u001b[43m,\u001b[49m\n\u001b[32m    519\u001b[39m \u001b[43m        \u001b[49m\u001b[43mmax_turns\u001b[49m\u001b[43m=\u001b[49m\u001b[43mmax_turns\u001b[49m\u001b[43m,\u001b[49m\n\u001b[32m    520\u001b[39m \u001b[43m        \u001b[49m\u001b[43mhooks\u001b[49m\u001b[43m=\u001b[49m\u001b[43mhooks\u001b[49m\u001b[43m,\u001b[49m\n\u001b[32m    521\u001b[39m \u001b[43m        \u001b[49m\u001b[43mrun_config\u001b[49m\u001b[43m=\u001b[49m\u001b[43mrun_config\u001b[49m\u001b[43m,\u001b[49m\n\u001b[32m    522\u001b[39m \u001b[43m        \u001b[49m\u001b[43mprevious_response_id\u001b[49m\u001b[43m=\u001b[49m\u001b[43mprevious_response_id\u001b[49m\u001b[43m,\u001b[49m\n\u001b[32m    523\u001b[39m \u001b[43m    \u001b[49m\u001b[43m)\u001b[49m\n\u001b[32m    524\u001b[39m \u001b[43m\u001b[49m\u001b[43m)\u001b[49m\n",
      "\u001b[36mFile \u001b[39m\u001b[32mc:\\Users\\ALICOM\\AppData\\Local\\Programs\\Python\\Python313\\Lib\\asyncio\\base_events.py:701\u001b[39m, in \u001b[36mBaseEventLoop.run_until_complete\u001b[39m\u001b[34m(self, future)\u001b[39m\n\u001b[32m    690\u001b[39m \u001b[38;5;250m\u001b[39m\u001b[33;03m\"\"\"Run until the Future is done.\u001b[39;00m\n\u001b[32m    691\u001b[39m \n\u001b[32m    692\u001b[39m \u001b[33;03mIf the argument is a coroutine, it is wrapped in a Task.\u001b[39;00m\n\u001b[32m   (...)\u001b[39m\u001b[32m    698\u001b[39m \u001b[33;03mReturn the Future's result, or raise its exception.\u001b[39;00m\n\u001b[32m    699\u001b[39m \u001b[33;03m\"\"\"\u001b[39;00m\n\u001b[32m    700\u001b[39m \u001b[38;5;28mself\u001b[39m._check_closed()\n\u001b[32m--> \u001b[39m\u001b[32m701\u001b[39m \u001b[38;5;28;43mself\u001b[39;49m\u001b[43m.\u001b[49m\u001b[43m_check_running\u001b[49m\u001b[43m(\u001b[49m\u001b[43m)\u001b[49m\n\u001b[32m    703\u001b[39m new_task = \u001b[38;5;129;01mnot\u001b[39;00m futures.isfuture(future)\n\u001b[32m    704\u001b[39m future = tasks.ensure_future(future, loop=\u001b[38;5;28mself\u001b[39m)\n",
      "\u001b[36mFile \u001b[39m\u001b[32mc:\\Users\\ALICOM\\AppData\\Local\\Programs\\Python\\Python313\\Lib\\asyncio\\base_events.py:637\u001b[39m, in \u001b[36mBaseEventLoop._check_running\u001b[39m\u001b[34m(self)\u001b[39m\n\u001b[32m    635\u001b[39m \u001b[38;5;28;01mdef\u001b[39;00m\u001b[38;5;250m \u001b[39m\u001b[34m_check_running\u001b[39m(\u001b[38;5;28mself\u001b[39m):\n\u001b[32m    636\u001b[39m     \u001b[38;5;28;01mif\u001b[39;00m \u001b[38;5;28mself\u001b[39m.is_running():\n\u001b[32m--> \u001b[39m\u001b[32m637\u001b[39m         \u001b[38;5;28;01mraise\u001b[39;00m \u001b[38;5;167;01mRuntimeError\u001b[39;00m(\u001b[33m'\u001b[39m\u001b[33mThis event loop is already running\u001b[39m\u001b[33m'\u001b[39m)\n\u001b[32m    638\u001b[39m     \u001b[38;5;28;01mif\u001b[39;00m events._get_running_loop() \u001b[38;5;129;01mis\u001b[39;00m \u001b[38;5;129;01mnot\u001b[39;00m \u001b[38;5;28;01mNone\u001b[39;00m:\n\u001b[32m    639\u001b[39m         \u001b[38;5;28;01mraise\u001b[39;00m \u001b[38;5;167;01mRuntimeError\u001b[39;00m(\n\u001b[32m    640\u001b[39m             \u001b[33m'\u001b[39m\u001b[33mCannot run the event loop while another loop is running\u001b[39m\u001b[33m'\u001b[39m)\n",
      "\u001b[31mRuntimeError\u001b[39m: This event loop is already running"
     ]
    }
   ],
   "source": [
    "agent=Agent(\n",
    "    name=\"MathTutor\",\n",
    "    instructions=\"You are a helpful math tutor. Help the student understand the concepts and solve problems step by step.\"\n",
    ")\n",
    "\n",
    "result=Runner.run_sync(agent,input=\"what is 13 times 24?\",run_config=config)\n",
    "print(result)"
   ]
  },
  {
   "cell_type": "code",
   "execution_count": null,
   "id": "bbcefa23",
   "metadata": {},
   "outputs": [
    {
     "ename": "TypeError",
     "evalue": "Runner.run_sync() takes 3 positional arguments but 4 were given",
     "output_type": "error",
     "traceback": [
      "\u001b[31m---------------------------------------------------------------------------\u001b[39m",
      "\u001b[31mTypeError\u001b[39m                                 Traceback (most recent call last)",
      "\u001b[36mCell\u001b[39m\u001b[36m \u001b[39m\u001b[32mIn[9]\u001b[39m\u001b[32m, line 1\u001b[39m\n\u001b[32m----> \u001b[39m\u001b[32m1\u001b[39m result=\u001b[43mRunner\u001b[49m\u001b[43m.\u001b[49m\u001b[43mrun_sync\u001b[49m\u001b[43m(\u001b[49m\u001b[43magent\u001b[49m\u001b[43m,\u001b[49m\u001b[33;43m\"\u001b[39;49m\u001b[33;43mwhat is 13 times 24?\u001b[39;49m\u001b[33;43m\"\u001b[39;49m\u001b[43m,\u001b[49m\u001b[43mconfig\u001b[49m\u001b[43m)\u001b[49m\n\u001b[32m      2\u001b[39m \u001b[38;5;28mprint\u001b[39m(result)\n",
      "\u001b[31mTypeError\u001b[39m: Runner.run_sync() takes 3 positional arguments but 4 were given"
     ]
    }
   ],
   "source": []
  }
 ],
 "metadata": {
  "kernelspec": {
   "display_name": "Python 3",
   "language": "python",
   "name": "python3"
  },
  "language_info": {
   "codemirror_mode": {
    "name": "ipython",
    "version": 3
   },
   "file_extension": ".py",
   "mimetype": "text/x-python",
   "name": "python",
   "nbconvert_exporter": "python",
   "pygments_lexer": "ipython3",
   "version": "3.13.2"
  }
 },
 "nbformat": 4,
 "nbformat_minor": 5
}
