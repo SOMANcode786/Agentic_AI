{
 "cells": [
  {
   "cell_type": "code",
   "execution_count": null,
   "id": "c3075841",
   "metadata": {},
   "outputs": [],
   "source": []
  },
  {
   "cell_type": "code",
   "execution_count": 1,
   "id": "117b901a",
   "metadata": {},
   "outputs": [
    {
     "name": "stdout",
     "output_type": "stream",
     "text": [
      "Requirement already satisfied: openai-agents in c:\\users\\alicom\\appdata\\local\\programs\\python\\python313\\lib\\site-packages (0.2.2)\n",
      "Requirement already satisfied: griffe<2,>=1.5.6 in c:\\users\\alicom\\appdata\\local\\programs\\python\\python313\\lib\\site-packages (from openai-agents) (1.7.3)\n",
      "Requirement already satisfied: mcp<2,>=1.11.0 in c:\\users\\alicom\\appdata\\local\\programs\\python\\python313\\lib\\site-packages (from openai-agents) (1.12.0)\n",
      "Requirement already satisfied: openai<2,>=1.96.1 in c:\\users\\alicom\\appdata\\local\\programs\\python\\python313\\lib\\site-packages (from openai-agents) (1.97.0)\n",
      "Requirement already satisfied: pydantic<3,>=2.10 in c:\\users\\alicom\\appdata\\local\\programs\\python\\python313\\lib\\site-packages (from openai-agents) (2.10.6)\n",
      "Requirement already satisfied: requests<3,>=2.0 in c:\\users\\alicom\\appdata\\local\\programs\\python\\python313\\lib\\site-packages (from openai-agents) (2.32.3)\n",
      "Requirement already satisfied: types-requests<3,>=2.0 in c:\\users\\alicom\\appdata\\local\\programs\\python\\python313\\lib\\site-packages (from openai-agents) (2.32.4.20250611)\n",
      "Requirement already satisfied: typing-extensions<5,>=4.12.2 in c:\\users\\alicom\\appdata\\local\\programs\\python\\python313\\lib\\site-packages (from openai-agents) (4.12.2)\n",
      "Requirement already satisfied: colorama>=0.4 in c:\\users\\alicom\\appdata\\local\\programs\\python\\python313\\lib\\site-packages (from griffe<2,>=1.5.6->openai-agents) (0.4.6)\n",
      "Requirement already satisfied: anyio>=4.5 in c:\\users\\alicom\\appdata\\local\\programs\\python\\python313\\lib\\site-packages (from mcp<2,>=1.11.0->openai-agents) (4.8.0)\n",
      "Requirement already satisfied: httpx-sse>=0.4 in c:\\users\\alicom\\appdata\\local\\programs\\python\\python313\\lib\\site-packages (from mcp<2,>=1.11.0->openai-agents) (0.4.1)\n",
      "Requirement already satisfied: httpx>=0.27 in c:\\users\\alicom\\appdata\\local\\programs\\python\\python313\\lib\\site-packages (from mcp<2,>=1.11.0->openai-agents) (0.28.1)\n",
      "Requirement already satisfied: jsonschema>=4.20.0 in c:\\users\\alicom\\appdata\\local\\programs\\python\\python313\\lib\\site-packages (from mcp<2,>=1.11.0->openai-agents) (4.23.0)\n",
      "Requirement already satisfied: pydantic-settings>=2.5.2 in c:\\users\\alicom\\appdata\\local\\programs\\python\\python313\\lib\\site-packages (from mcp<2,>=1.11.0->openai-agents) (2.10.1)\n",
      "Requirement already satisfied: python-multipart>=0.0.9 in c:\\users\\alicom\\appdata\\local\\programs\\python\\python313\\lib\\site-packages (from mcp<2,>=1.11.0->openai-agents) (0.0.20)\n",
      "Requirement already satisfied: pywin32>=310 in c:\\users\\alicom\\appdata\\local\\programs\\python\\python313\\lib\\site-packages (from mcp<2,>=1.11.0->openai-agents) (311)\n",
      "Requirement already satisfied: sse-starlette>=1.6.1 in c:\\users\\alicom\\appdata\\local\\programs\\python\\python313\\lib\\site-packages (from mcp<2,>=1.11.0->openai-agents) (2.4.1)\n",
      "Requirement already satisfied: starlette>=0.27 in c:\\users\\alicom\\appdata\\local\\programs\\python\\python313\\lib\\site-packages (from mcp<2,>=1.11.0->openai-agents) (0.47.2)\n",
      "Requirement already satisfied: uvicorn>=0.23.1 in c:\\users\\alicom\\appdata\\local\\programs\\python\\python313\\lib\\site-packages (from mcp<2,>=1.11.0->openai-agents) (0.35.0)\n",
      "Requirement already satisfied: distro<2,>=1.7.0 in c:\\users\\alicom\\appdata\\local\\programs\\python\\python313\\lib\\site-packages (from openai<2,>=1.96.1->openai-agents) (1.9.0)\n",
      "Requirement already satisfied: jiter<1,>=0.4.0 in c:\\users\\alicom\\appdata\\local\\programs\\python\\python313\\lib\\site-packages (from openai<2,>=1.96.1->openai-agents) (0.9.0)\n",
      "Requirement already satisfied: sniffio in c:\\users\\alicom\\appdata\\local\\programs\\python\\python313\\lib\\site-packages (from openai<2,>=1.96.1->openai-agents) (1.3.1)\n",
      "Requirement already satisfied: tqdm>4 in c:\\users\\alicom\\appdata\\local\\programs\\python\\python313\\lib\\site-packages (from openai<2,>=1.96.1->openai-agents) (4.67.1)\n",
      "Requirement already satisfied: annotated-types>=0.6.0 in c:\\users\\alicom\\appdata\\local\\programs\\python\\python313\\lib\\site-packages (from pydantic<3,>=2.10->openai-agents) (0.7.0)\n",
      "Requirement already satisfied: pydantic-core==2.27.2 in c:\\users\\alicom\\appdata\\local\\programs\\python\\python313\\lib\\site-packages (from pydantic<3,>=2.10->openai-agents) (2.27.2)\n",
      "Requirement already satisfied: charset-normalizer<4,>=2 in c:\\users\\alicom\\appdata\\local\\programs\\python\\python313\\lib\\site-packages (from requests<3,>=2.0->openai-agents) (3.4.1)\n",
      "Requirement already satisfied: idna<4,>=2.5 in c:\\users\\alicom\\appdata\\local\\programs\\python\\python313\\lib\\site-packages (from requests<3,>=2.0->openai-agents) (3.10)\n",
      "Requirement already satisfied: urllib3<3,>=1.21.1 in c:\\users\\alicom\\appdata\\local\\programs\\python\\python313\\lib\\site-packages (from requests<3,>=2.0->openai-agents) (2.3.0)\n",
      "Requirement already satisfied: certifi>=2017.4.17 in c:\\users\\alicom\\appdata\\local\\programs\\python\\python313\\lib\\site-packages (from requests<3,>=2.0->openai-agents) (2025.1.31)\n",
      "Requirement already satisfied: httpcore==1.* in c:\\users\\alicom\\appdata\\local\\programs\\python\\python313\\lib\\site-packages (from httpx>=0.27->mcp<2,>=1.11.0->openai-agents) (1.0.7)\n",
      "Requirement already satisfied: h11<0.15,>=0.13 in c:\\users\\alicom\\appdata\\local\\programs\\python\\python313\\lib\\site-packages (from httpcore==1.*->httpx>=0.27->mcp<2,>=1.11.0->openai-agents) (0.14.0)\n",
      "Requirement already satisfied: attrs>=22.2.0 in c:\\users\\alicom\\appdata\\local\\programs\\python\\python313\\lib\\site-packages (from jsonschema>=4.20.0->mcp<2,>=1.11.0->openai-agents) (25.1.0)\n",
      "Requirement already satisfied: jsonschema-specifications>=2023.03.6 in c:\\users\\alicom\\appdata\\local\\programs\\python\\python313\\lib\\site-packages (from jsonschema>=4.20.0->mcp<2,>=1.11.0->openai-agents) (2024.10.1)\n",
      "Requirement already satisfied: referencing>=0.28.4 in c:\\users\\alicom\\appdata\\local\\programs\\python\\python313\\lib\\site-packages (from jsonschema>=4.20.0->mcp<2,>=1.11.0->openai-agents) (0.36.2)\n",
      "Requirement already satisfied: rpds-py>=0.7.1 in c:\\users\\alicom\\appdata\\local\\programs\\python\\python313\\lib\\site-packages (from jsonschema>=4.20.0->mcp<2,>=1.11.0->openai-agents) (0.23.1)\n",
      "Requirement already satisfied: python-dotenv>=0.21.0 in c:\\users\\alicom\\appdata\\local\\programs\\python\\python313\\lib\\site-packages (from pydantic-settings>=2.5.2->mcp<2,>=1.11.0->openai-agents) (1.1.1)\n",
      "Requirement already satisfied: typing-inspection>=0.4.0 in c:\\users\\alicom\\appdata\\local\\programs\\python\\python313\\lib\\site-packages (from pydantic-settings>=2.5.2->mcp<2,>=1.11.0->openai-agents) (0.4.1)\n",
      "Requirement already satisfied: click>=7.0 in c:\\users\\alicom\\appdata\\local\\programs\\python\\python313\\lib\\site-packages (from uvicorn>=0.23.1->mcp<2,>=1.11.0->openai-agents) (8.1.8)\n",
      "Note: you may need to restart the kernel to use updated packages.\n"
     ]
    },
    {
     "name": "stderr",
     "output_type": "stream",
     "text": [
      "WARNING: Ignoring invalid distribution ~treamlit (c:\\Users\\ALICOM\\AppData\\Local\\Programs\\Python\\Python313\\Lib\\site-packages)\n",
      "WARNING: Ignoring invalid distribution ~treamlit (c:\\Users\\ALICOM\\AppData\\Local\\Programs\\Python\\Python313\\Lib\\site-packages)\n",
      "WARNING: Ignoring invalid distribution ~treamlit (c:\\Users\\ALICOM\\AppData\\Local\\Programs\\Python\\Python313\\Lib\\site-packages)\n",
      "WARNING: Ignoring invalid distribution ~treamlit (c:\\Users\\ALICOM\\AppData\\Local\\Programs\\Python\\Python313\\Lib\\site-packages)\n",
      "\n",
      "[notice] A new release of pip is available: 24.3.1 -> 25.2\n",
      "[notice] To update, run: python.exe -m pip install --upgrade pip\n"
     ]
    }
   ],
   "source": [
    "%pip install openai-agents"
   ]
  },
  {
   "cell_type": "code",
   "execution_count": 2,
   "id": "a9113c4a",
   "metadata": {},
   "outputs": [
    {
     "name": "stdout",
     "output_type": "stream",
     "text": [
      "Requirement already satisfied: python-dotenv in c:\\users\\alicom\\appdata\\local\\programs\\python\\python313\\lib\\site-packages (1.1.1)\n",
      "Note: you may need to restart the kernel to use updated packages.\n"
     ]
    },
    {
     "name": "stderr",
     "output_type": "stream",
     "text": [
      "WARNING: Ignoring invalid distribution ~treamlit (c:\\Users\\ALICOM\\AppData\\Local\\Programs\\Python\\Python313\\Lib\\site-packages)\n",
      "WARNING: Ignoring invalid distribution ~treamlit (c:\\Users\\ALICOM\\AppData\\Local\\Programs\\Python\\Python313\\Lib\\site-packages)\n",
      "WARNING: Ignoring invalid distribution ~treamlit (c:\\Users\\ALICOM\\AppData\\Local\\Programs\\Python\\Python313\\Lib\\site-packages)\n",
      "WARNING: Ignoring invalid distribution ~treamlit (c:\\Users\\ALICOM\\AppData\\Local\\Programs\\Python\\Python313\\Lib\\site-packages)\n",
      "\n",
      "[notice] A new release of pip is available: 24.3.1 -> 25.2\n",
      "[notice] To update, run: python.exe -m pip install --upgrade pip\n"
     ]
    }
   ],
   "source": [
    "%pip install python-dotenv\n"
   ]
  },
  {
   "cell_type": "code",
   "execution_count": null,
   "id": "1b0a4b86",
   "metadata": {},
   "outputs": [],
   "source": [
    "from agents import Agent,Runner,OpenAIChatCompletionsModel,AsyncOpenAI,RunConfig\n",
    "from dotenv import load_dotenv\n",
    "import os\n",
    "load_dotenv()\n",
    "\n",
    "\n",
    "api_key=os.getenv(\"GEMIN_API_KEY\")\n",
    "\n",
    "\n"
   ]
  },
  {
   "cell_type": "code",
   "execution_count": null,
   "id": "2ced662d",
   "metadata": {},
   "outputs": [
    {
     "ename": "NameError",
     "evalue": "name 'openai_client' is not defined",
     "output_type": "error",
     "traceback": [
      "\u001b[31m---------------------------------------------------------------------------\u001b[39m",
      "\u001b[31mNameError\u001b[39m                                 Traceback (most recent call last)",
      "\u001b[36mCell\u001b[39m\u001b[36m \u001b[39m\u001b[32mIn[7]\u001b[39m\u001b[32m, line 8\u001b[39m\n\u001b[32m      1\u001b[39m client = AsyncOpenAI(\n\u001b[32m      2\u001b[39m     api_key=api_key,\n\u001b[32m      3\u001b[39m     base_url=\u001b[33m\"\u001b[39m\u001b[33mhttps://generativelanguage.googleapis.com/v1beta/openai/\u001b[39m\u001b[33m\"\u001b[39m\n\u001b[32m      4\u001b[39m )\n\u001b[32m      7\u001b[39m model=OpenAIChatCompletionsModel(\n\u001b[32m----> \u001b[39m\u001b[32m8\u001b[39m     \u001b[43mopenai_client\u001b[49m==client,\n\u001b[32m      9\u001b[39m     model_name=\u001b[33m\"\u001b[39m\u001b[33mgemini-1.5-flash\u001b[39m\u001b[33m\"\u001b[39m,\n\u001b[32m     10\u001b[39m )\n\u001b[32m     12\u001b[39m config=RunConfig(\n\u001b[32m     13\u001b[39m     model=model,\n\u001b[32m     14\u001b[39m     model_provider=client,\n\u001b[32m     15\u001b[39m     tracing_disabled=\u001b[38;5;28;01mTrue\u001b[39;00m,  \u001b[38;5;66;03m# Disable internal tracing/logging\u001b[39;00m\n\u001b[32m     16\u001b[39m \n\u001b[32m     17\u001b[39m )\n",
      "\u001b[31mNameError\u001b[39m: name 'openai_client' is not defined"
     ]
    }
   ],
   "source": [
    "external = AsyncOpenAI(\n",
    "    api_key=api_key,\n",
    "    base_url=\"https://generativelanguage.googleapis.com/v1beta/openai/\"\n",
    ")\n",
    "\n",
    "\n",
    "model=OpenAIChatCompletionsModel(\n",
    "    openai_client==external,\n",
    "    model_name=\"gemini-1.5-flash\",\n",
    ")\n",
    "\n",
    "config=RunConfig(\n",
    "    model=model,\n",
    "    model_provider=client,\n",
    "    tracing_disabled=True,  # Disable internal tracing/logging\n",
    "\n",
    ")"
   ]
  }
 ],
 "metadata": {
  "kernelspec": {
   "display_name": "Python 3",
   "language": "python",
   "name": "python3"
  },
  "language_info": {
   "codemirror_mode": {
    "name": "ipython",
    "version": 3
   },
   "file_extension": ".py",
   "mimetype": "text/x-python",
   "name": "python",
   "nbconvert_exporter": "python",
   "pygments_lexer": "ipython3",
   "version": "3.13.2"
  }
 },
 "nbformat": 4,
 "nbformat_minor": 5
}
